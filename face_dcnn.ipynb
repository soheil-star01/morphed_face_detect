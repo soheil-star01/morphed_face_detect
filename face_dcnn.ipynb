{
  "nbformat": 4,
  "nbformat_minor": 0,
  "metadata": {
    "accelerator": "GPU",
    "colab": {
      "name": "face_dcnn.ipynb",
      "provenance": [],
      "collapsed_sections": []
    },
    "kernelspec": {
      "display_name": "Python 3",
      "name": "python3"
    }
  },
  "cells": [
    {
      "cell_type": "code",
      "metadata": {
        "id": "gMuhe3Si9s_u"
      },
      "source": [
        "# !pip install opencv-contrib-python==4.4.0.44"
      ],
      "execution_count": null,
      "outputs": []
    },
    {
      "cell_type": "code",
      "metadata": {
        "colab": {
          "base_uri": "https://localhost:8080/"
        },
        "id": "CuFDRCgfZJH6",
        "outputId": "302494a2-8853-4478-8d2e-9eac0e87550e"
      },
      "source": [
        "from google.colab import drive\n",
        "drive.mount('/content/drive')"
      ],
      "execution_count": null,
      "outputs": [
        {
          "output_type": "stream",
          "text": [
            "Mounted at /content/drive\n"
          ],
          "name": "stdout"
        }
      ]
    },
    {
      "cell_type": "code",
      "metadata": {
        "id": "Pr9EHbM457Cv"
      },
      "source": [
        "import os\n",
        "\n",
        "import pandas as pd\n",
        "import numpy as np\n",
        "\n",
        "import cv2\n",
        "import matplotlib.pyplot as plt\n",
        "import seaborn as sns\n",
        "\n",
        "from sklearn.model_selection import train_test_split\n",
        "from sklearn.cluster import KMeans\n",
        "\n",
        "from sklearn.metrics import confusion_matrix"
      ],
      "execution_count": null,
      "outputs": []
    },
    {
      "cell_type": "code",
      "metadata": {
        "id": "qPeNcLvpswhq"
      },
      "source": [
        "### defining some parameters.\n",
        "\n",
        "class config:\n",
        "    CDNN_SHAPE = (400, 400) ### the shape of input images for DCNN \n",
        "    TRAINING_SET_SIZE = 1100 ### number of training samples\n",
        "    TESTING_SET_SIZE = 600 ### number of testing samples\n",
        "    VALIDATION_SET_SIZE = 200 ### number of validation samples \n",
        "    N_CLUSTER = 50 ### NUMBER OF VISUAL WORDS  *OR*  NUMBER OF FEATURES  *OR*  number of clusters"
      ],
      "execution_count": null,
      "outputs": []
    },
    {
      "cell_type": "code",
      "metadata": {
        "colab": {
          "base_uri": "https://localhost:8080/"
        },
        "id": "eSoFOCzY6lw9",
        "outputId": "7ba082c0-01a3-4aa3-e5b1-4507a650d393"
      },
      "source": [
        "path_dataset = '/content/drive/MyDrive/projects/estee/NEW_DATASET'\n",
        "\n",
        "b_images = os.listdir(path_dataset+'/BONAFIDEA') ### get all of `bonafide` files name\n",
        "m_images = os.listdir(path_dataset+'/morphed') ### get all of `morphed` files name\n",
        "\n",
        "print(f'number of Bonafide images: {len(b_images)}\\nnumber of Morphed images: {len(m_images)}')"
      ],
      "execution_count": null,
      "outputs": [
        {
          "output_type": "stream",
          "text": [
            "number of Bonafide images: 920\n",
            "number of Morphed images: 1066\n"
          ],
          "name": "stdout"
        }
      ]
    },
    {
      "cell_type": "code",
      "metadata": {
        "id": "j9uqRgax9h30"
      },
      "source": [
        "### creating a Pandas Dataframe with file name and class type (morphe/bonafide)\n",
        "\n",
        "df_all = pd.DataFrame(b_images,columns=['file'])\n",
        "df_all['class'] = 0\n",
        "df_all_ = pd.DataFrame(m_images,columns=['file'])\n",
        "df_all_['class'] = 1\n",
        "df_all = pd.concat((df_all, df_all_),axis=0)"
      ],
      "execution_count": null,
      "outputs": []
    },
    {
      "cell_type": "code",
      "metadata": {
        "id": "pZ4UnlJ8GaaF"
      },
      "source": [
        "### train test split. I used stratify to keep distribution of the whole dataset\n",
        "\n",
        "X_train, X_test, y_train, y_test = train_test_split(df_all['file'].to_numpy(), \n",
        "                                                    df_all['class'].to_numpy(), \n",
        "                                                    test_size=0.33, \n",
        "                                                    random_state=1370,\n",
        "                                                    stratify=df_all['class'])"
      ],
      "execution_count": null,
      "outputs": []
    },
    {
      "cell_type": "markdown",
      "metadata": {
        "id": "BaEeA1WUx-SH"
      },
      "source": [
        "## DCNN_ResNet50"
      ]
    },
    {
      "cell_type": "code",
      "metadata": {
        "id": "GXefPASMEPKD"
      },
      "source": [
        "import tensorflow as tf\n",
        "from tensorflow.keras.preprocessing.image import ImageDataGenerator\n",
        "from tensorflow.keras.layers import AveragePooling2D, Dropout, Flatten, Dense, Input, GlobalAveragePooling2D\n",
        "from tensorflow.keras.models import Model\n",
        "from tensorflow.keras.optimizers import Adam\n",
        "from tensorflow.keras.applications import ResNet101V2, InceptionV3, VGG19, EfficientNetB7\n",
        "from tensorflow.keras.callbacks import ModelCheckpoint, ReduceLROnPlateau,EarlyStopping\n",
        "from sklearn.utils import shuffle\n",
        "from keras.utils.np_utils import to_categorical \n"
      ],
      "execution_count": null,
      "outputs": []
    },
    {
      "cell_type": "code",
      "metadata": {
        "id": "1SgsYE3-VQdD"
      },
      "source": [
        "### Data augmentation\n",
        "from scipy.ndimage import rotate\n",
        "\n",
        "\n",
        "\n",
        "def aug_rotate(img, angle, bg_patch=(5,5)):\n",
        "    rgb = len(img.shape) == 3\n",
        "    bg_color = np.mean(img[:bg_patch[0], :bg_patch[1], :], axis=(0,1))\n",
        "    img = rotate(img, angle, reshape=False)\n",
        "    mask = [img <= 0, np.any(img <= 0, axis=-1)][rgb]\n",
        "    img[mask] = bg_color\n",
        "    return img\n",
        "\n",
        "def aug_gaussian_noise(img, mean=0, sigma=0.03):\n",
        "    img = img.copy()\n",
        "    noise = np.random.normal(mean, sigma, img.shape)*255\n",
        "    mask_overflow_upper = img+noise >= 255.0\n",
        "    mask_overflow_lower = img+noise < 0\n",
        "    noise[mask_overflow_upper] = 255.0\n",
        "    noise[mask_overflow_lower] = 0\n",
        "    return img + noise.astype(int)\n",
        "\n",
        "\n",
        "def aug_random_crop(img, crop_size=config.CDNN_SHAPE):\n",
        "    img = img.copy()\n",
        "    w, h = img.shape[:2]\n",
        "    x, y = np.random.randint(h-crop_size[0]), np.random.randint(w-crop_size[1])\n",
        "    img = img[y:y+crop_size[0], x:x+crop_size[1]]\n",
        "    return img\n",
        "\n"
      ],
      "execution_count": null,
      "outputs": []
    },
    {
      "cell_type": "code",
      "metadata": {
        "id": "hMVXtKD0Kkc7"
      },
      "source": [
        "### to avoid loading all images at once, I used Batch generator technique.\n",
        "### in each step of each epoch, it only load `batch_size_` number of images\n",
        "\n",
        "\n",
        "def create_generator(batch_size_, X_input, y_input, training=False):\n",
        "    X_train_ = X_input\n",
        "    y_train_ = y_input\n",
        "    while 1:\n",
        "        X_train_, y_train_ = shuffle(X_train_, y_train_)\n",
        "        for j in range(batch_size_):\n",
        "            type_f = '/BONAFIDEA/' if y_train_[j]==0 else '/morphed/'\n",
        "            img_ = cv2.imread(path_dataset+type_f+X_train_[j])\n",
        "            img_ = cv2.cvtColor(img_, cv2.COLOR_BGR2RGB)\n",
        "            \n",
        "            if training:\n",
        "                if np.random.uniform()>0.8:\n",
        "                    img_ = aug_gaussian_noise(img_, mean=(1-2*np.random.rand())*0.01, sigma=(np.random.rand())*0.05)\n",
        "                img_ = aug_rotate(img_, np.random.randint(-20,20), bg_patch=(5,5))\n",
        "                img_ = aug_random_crop(img_)\n",
        "            else:\n",
        "                row_ = int(img_.shape[0]/2)\n",
        "                col_ = int(img_.shape[1]/2)\n",
        "                s1   = int(min(img_.shape[:2])/2)-2 \n",
        "                img_ = img_[row_-s1:row_+s1, :][: ,col_-s1:col_+s1]\n",
        "                img_ = cv2.resize(img_, config.CDNN_SHAPE)\n",
        "\n",
        "            img_ = img_.reshape((1,)+img_.shape)\n",
        "            lbl_ = y_train_[j]\n",
        "            if j == 0:\n",
        "                x = img_\n",
        "                y = [lbl_]\n",
        "            else:\n",
        "                x = np.concatenate((x,img_))\n",
        "                y.append(lbl_)\n",
        "        if len(X_train_) > 2*batch_size_:\n",
        "            X_train_ = X_train_[batch_size_:]\n",
        "            y_train_ = y_train_[batch_size_:]\n",
        "        else:\n",
        "            X_train_ = X_input\n",
        "            y_train_ = y_input\n",
        "        yield (x/255).astype(np.float16), to_categorical(y, num_classes=2)    #changed from 16 to 32"
      ],
      "execution_count": null,
      "outputs": []
    },
    {
      "cell_type": "code",
      "metadata": {
        "id": "WawmFftWgIi4",
        "colab": {
          "base_uri": "https://localhost:8080/"
        },
        "outputId": "fb0eb6d4-dc84-43c8-d216-edb18970ab3b"
      },
      "source": [
        "def create_model(base_model):\n",
        "    base_model.trainable = True\n",
        "    global_average_layer = GlobalAveragePooling2D()(base_model.output)\n",
        "    prediction_layer = Dense(2, activation='softmax')(global_average_layer)\n",
        "    model = Model(inputs=base_model.input, outputs=prediction_layer)\n",
        "    model.compile(optimizer=tf.keras.optimizers.Adam(lr=0.001), loss=tf.keras.losses.BinaryCrossentropy(from_logits=True), metrics=[\"accuracy\"])\n",
        "    # model.compile(optimizer=tf.keras.optimizers.SGD(lr=0.1), loss=tf.keras.losses.BinaryCrossentropy(from_logits=True), metrics=[\"accuracy\"])\n",
        "    return model\n",
        "\n",
        "\n",
        "def fit_model(model):\n",
        "    TRAIN_GEN_SIZE = min(20,config.TRAINING_SET_SIZE) ### number of images to be loaded at each step at each epoch, for training\n",
        "    VAL_GEN_SIZE = min(30,config.VALIDATION_SET_SIZE) ### number of images to be loaded at each step at each epoch, for testing\n",
        "\n",
        "\n",
        "\n",
        "    get_train_set_ = create_generator(TRAIN_GEN_SIZE, \n",
        "                                    X_train[:config.TRAINING_SET_SIZE], \n",
        "                                    y_train[:config.TRAINING_SET_SIZE],\n",
        "                                    training=False)\n",
        "\n",
        "    get_val_set_ = create_generator(VAL_GEN_SIZE, \n",
        "                                    X_train[config.TRAINING_SET_SIZE:config.VALIDATION_SET_SIZE+config.TRAINING_SET_SIZE], \n",
        "                                    y_train[config.TRAINING_SET_SIZE:config.VALIDATION_SET_SIZE+config.TRAINING_SET_SIZE])\n",
        "    \n",
        "    earlystopper = EarlyStopping(patience=2, verbose=1) ### to prevent over fitting I used earlystop + validation set\n",
        "\n",
        "    reduce_lr = ReduceLROnPlateau(  monitor='val_accuracy', ### to reduce learining rate when the optimization doesnt go furture\n",
        "                                    factor=0.5,\n",
        "                                    patience=2, \n",
        "                                    min_lr=0.000001, \n",
        "                                    verbose=1,  \n",
        "                                    cooldown=1)\n",
        "    callback_list = [reduce_lr,earlystopper] ### I added early stop and reduce learining rate here\n",
        "\n",
        "    history = model.fit_generator(  get_train_set_, \n",
        "                                    validation_data=get_val_set_,\n",
        "                                    validation_steps=int(config.VALIDATION_SET_SIZE//VAL_GEN_SIZE),\n",
        "                                    epochs=10, \n",
        "                                    steps_per_epoch=int(config.TRAINING_SET_SIZE//TRAIN_GEN_SIZE),\n",
        "                                    callbacks=callback_list)\n",
        "    return history\n",
        "\n",
        "base_model1 = ResNet101V2(input_shape=(*config.CDNN_SHAPE, 3), include_top=False, weights=\"imagenet\")\n",
        "base_model2 = InceptionV3(input_shape=(*config.CDNN_SHAPE, 3), include_top=False, weights=\"imagenet\")\n",
        "base_model3 = VGG19(input_shape=(*config.CDNN_SHAPE, 3), include_top=False, weights=\"imagenet\")\n",
        "base_model4 = EfficientNetB7(input_shape=(*config.CDNN_SHAPE, 3), include_top=False, weights=\"imagenet\")\n",
        "\n",
        "\n",
        "model1 = create_model(base_model1)\n",
        "model2 = create_model(base_model2)\n",
        "model3 = create_model(base_model3)\n",
        "model4 = create_model(base_model4)"
      ],
      "execution_count": null,
      "outputs": [
        {
          "output_type": "stream",
          "text": [
            "Downloading data from https://storage.googleapis.com/tensorflow/keras-applications/resnet/resnet101v2_weights_tf_dim_ordering_tf_kernels_notop.h5\n",
            "171319296/171317808 [==============================] - 1s 0us/step\n",
            "Downloading data from https://storage.googleapis.com/tensorflow/keras-applications/inception_v3/inception_v3_weights_tf_dim_ordering_tf_kernels_notop.h5\n",
            "87916544/87910968 [==============================] - 1s 0us/step\n",
            "Downloading data from https://storage.googleapis.com/tensorflow/keras-applications/vgg19/vgg19_weights_tf_dim_ordering_tf_kernels_notop.h5\n",
            "80142336/80134624 [==============================] - 0s 0us/step\n",
            "Downloading data from https://storage.googleapis.com/keras-applications/efficientnetb7_notop.h5\n",
            "258080768/258076736 [==============================] - 2s 0us/step\n"
          ],
          "name": "stdout"
        }
      ]
    },
    {
      "cell_type": "code",
      "metadata": {
        "id": "Kjb9AXFpho8C",
        "colab": {
          "base_uri": "https://localhost:8080/",
          "height": 232
        },
        "outputId": "04613454-1b6b-4bd3-aa37-61b8d3667262"
      },
      "source": [
        "history1 = fit_model(model1)\n",
        "model1.save(path_dataset+'/models/model1.h5')\n",
        "history2 = fit_model(model2)\n",
        "model2.save(path_dataset+'/models/model2.h5')\n",
        "history3 = fit_model(model3)\n",
        "model3.save(path_dataset+'/models/model3.h5')\n",
        "# history4 = fit_model(model4)\n",
        "# model4.save('models/model4.h5')"
      ],
      "execution_count": null,
      "outputs": [
        {
          "output_type": "error",
          "ename": "NameError",
          "evalue": "ignored",
          "traceback": [
            "\u001b[0;31m---------------------------------------------------------------------------\u001b[0m",
            "\u001b[0;31mNameError\u001b[0m                                 Traceback (most recent call last)",
            "\u001b[0;32m<ipython-input-9-a4ce23954f1c>\u001b[0m in \u001b[0;36m<module>\u001b[0;34m()\u001b[0m\n\u001b[0;32m----> 1\u001b[0;31m \u001b[0mhistory1\u001b[0m \u001b[0;34m=\u001b[0m \u001b[0mfit_model\u001b[0m\u001b[0;34m(\u001b[0m\u001b[0mmodel1\u001b[0m\u001b[0;34m)\u001b[0m\u001b[0;34m\u001b[0m\u001b[0;34m\u001b[0m\u001b[0m\n\u001b[0m\u001b[1;32m      2\u001b[0m \u001b[0mmodel1\u001b[0m\u001b[0;34m.\u001b[0m\u001b[0msave\u001b[0m\u001b[0;34m(\u001b[0m\u001b[0mpath_dataset\u001b[0m\u001b[0;34m+\u001b[0m\u001b[0;34m'/models/model1.h5'\u001b[0m\u001b[0;34m)\u001b[0m\u001b[0;34m\u001b[0m\u001b[0;34m\u001b[0m\u001b[0m\n\u001b[1;32m      3\u001b[0m \u001b[0mhistory2\u001b[0m \u001b[0;34m=\u001b[0m \u001b[0mfit_model\u001b[0m\u001b[0;34m(\u001b[0m\u001b[0mmodel2\u001b[0m\u001b[0;34m)\u001b[0m\u001b[0;34m\u001b[0m\u001b[0;34m\u001b[0m\u001b[0m\n\u001b[1;32m      4\u001b[0m \u001b[0mmodel2\u001b[0m\u001b[0;34m.\u001b[0m\u001b[0msave\u001b[0m\u001b[0;34m(\u001b[0m\u001b[0mpath_dataset\u001b[0m\u001b[0;34m+\u001b[0m\u001b[0;34m'/models/model2.h5'\u001b[0m\u001b[0;34m)\u001b[0m\u001b[0;34m\u001b[0m\u001b[0;34m\u001b[0m\u001b[0m\n\u001b[1;32m      5\u001b[0m \u001b[0mhistory3\u001b[0m \u001b[0;34m=\u001b[0m \u001b[0mfit_model\u001b[0m\u001b[0;34m(\u001b[0m\u001b[0mmodel3\u001b[0m\u001b[0;34m)\u001b[0m\u001b[0;34m\u001b[0m\u001b[0;34m\u001b[0m\u001b[0m\n",
            "\u001b[0;31mNameError\u001b[0m: name 'fit_model' is not defined"
          ]
        }
      ]
    },
    {
      "cell_type": "code",
      "metadata": {
        "colab": {
          "base_uri": "https://localhost:8080/",
          "height": 426
        },
        "id": "_LGjc_qfV-NM",
        "outputId": "a9adf0a6-2c76-4ffa-da32-6649a9b3caa1"
      },
      "source": [
        "def load_all_models():\n",
        "    all_models = []\n",
        "    model_names = ['model1.h5', 'model2.h5', 'model3.h5']\n",
        "    for model_name in model_names:\n",
        "        filename = os.path.join(path_dataset+'models', model_name)\n",
        "        model = tf.keras.models.load_model(filename)\n",
        "        all_models.append(model)\n",
        "        print('loaded:', filename)\n",
        "    return all_models\n",
        "\n",
        "models = load_all_models()\n",
        "\n",
        "for i, model in enumerate(models):\n",
        "    for layer in model.layers:\n",
        "        layer.trainable = False\n",
        "\n",
        "\n",
        "myinput = tf.keras.layers.Input(shape=a.input.shape)\n",
        "for model in models:\n",
        "    model = tf.keras.layers.Input(shape=a.input.shape)(model)\n",
        "# ensemble_visible = [model.input for model in models]\n",
        "ensemble_outputs = [model.output for model in models]\n",
        "merge = tf.keras.layers.concatenate(ensemble_outputs)\n",
        "merge = tf.keras.layers.Dense(10, activation='relu')(merge)\n",
        "output = tf.keras.layers.Dense(2, activation='softmax')(merge)\n",
        "model = tf.keras.models.Model(inputs=myinput, outputs=output)\n",
        "\n",
        "model.compile(optimizer=tf.keras.optimizers.Adam(lr=0.001), loss=tf.keras.losses.BinaryCrossentropy(from_logits=True), metrics=[\"accuracy\"])"
      ],
      "execution_count": null,
      "outputs": [
        {
          "output_type": "stream",
          "text": [
            "loaded: /content/drive/MyDrive/projects/estee/NEW_DATASETmodels/model1.h5\n",
            "loaded: /content/drive/MyDrive/projects/estee/NEW_DATASETmodels/model2.h5\n",
            "loaded: /content/drive/MyDrive/projects/estee/NEW_DATASETmodels/model3.h5\n"
          ],
          "name": "stdout"
        },
        {
          "output_type": "error",
          "ename": "ValueError",
          "evalue": "ignored",
          "traceback": [
            "\u001b[0;31m---------------------------------------------------------------------------\u001b[0m",
            "\u001b[0;31mValueError\u001b[0m                                Traceback (most recent call last)",
            "\u001b[0;32m<ipython-input-10-7a00d9a2e106>\u001b[0m in \u001b[0;36m<module>\u001b[0;34m()\u001b[0m\n\u001b[1;32m     20\u001b[0m \u001b[0mmerge\u001b[0m \u001b[0;34m=\u001b[0m \u001b[0mtf\u001b[0m\u001b[0;34m.\u001b[0m\u001b[0mkeras\u001b[0m\u001b[0;34m.\u001b[0m\u001b[0mlayers\u001b[0m\u001b[0;34m.\u001b[0m\u001b[0mDense\u001b[0m\u001b[0;34m(\u001b[0m\u001b[0;36m10\u001b[0m\u001b[0;34m,\u001b[0m \u001b[0mactivation\u001b[0m\u001b[0;34m=\u001b[0m\u001b[0;34m'relu'\u001b[0m\u001b[0;34m)\u001b[0m\u001b[0;34m(\u001b[0m\u001b[0mmerge\u001b[0m\u001b[0;34m)\u001b[0m\u001b[0;34m\u001b[0m\u001b[0;34m\u001b[0m\u001b[0m\n\u001b[1;32m     21\u001b[0m \u001b[0moutput\u001b[0m \u001b[0;34m=\u001b[0m \u001b[0mtf\u001b[0m\u001b[0;34m.\u001b[0m\u001b[0mkeras\u001b[0m\u001b[0;34m.\u001b[0m\u001b[0mlayers\u001b[0m\u001b[0;34m.\u001b[0m\u001b[0mDense\u001b[0m\u001b[0;34m(\u001b[0m\u001b[0;36m2\u001b[0m\u001b[0;34m,\u001b[0m \u001b[0mactivation\u001b[0m\u001b[0;34m=\u001b[0m\u001b[0;34m'softmax'\u001b[0m\u001b[0;34m)\u001b[0m\u001b[0;34m(\u001b[0m\u001b[0mmerge\u001b[0m\u001b[0;34m)\u001b[0m\u001b[0;34m\u001b[0m\u001b[0;34m\u001b[0m\u001b[0m\n\u001b[0;32m---> 22\u001b[0;31m \u001b[0mmodel\u001b[0m \u001b[0;34m=\u001b[0m \u001b[0mtf\u001b[0m\u001b[0;34m.\u001b[0m\u001b[0mkeras\u001b[0m\u001b[0;34m.\u001b[0m\u001b[0mmodels\u001b[0m\u001b[0;34m.\u001b[0m\u001b[0mModel\u001b[0m\u001b[0;34m(\u001b[0m\u001b[0minputs\u001b[0m\u001b[0;34m=\u001b[0m\u001b[0mensemble_visible\u001b[0m\u001b[0;34m,\u001b[0m \u001b[0moutputs\u001b[0m\u001b[0;34m=\u001b[0m\u001b[0moutput\u001b[0m\u001b[0;34m)\u001b[0m\u001b[0;34m\u001b[0m\u001b[0;34m\u001b[0m\u001b[0m\n\u001b[0m\u001b[1;32m     23\u001b[0m \u001b[0;34m\u001b[0m\u001b[0m\n\u001b[1;32m     24\u001b[0m \u001b[0mmodel\u001b[0m\u001b[0;34m.\u001b[0m\u001b[0mcompile\u001b[0m\u001b[0;34m(\u001b[0m\u001b[0moptimizer\u001b[0m\u001b[0;34m=\u001b[0m\u001b[0mtf\u001b[0m\u001b[0;34m.\u001b[0m\u001b[0mkeras\u001b[0m\u001b[0;34m.\u001b[0m\u001b[0moptimizers\u001b[0m\u001b[0;34m.\u001b[0m\u001b[0mAdam\u001b[0m\u001b[0;34m(\u001b[0m\u001b[0mlr\u001b[0m\u001b[0;34m=\u001b[0m\u001b[0;36m0.001\u001b[0m\u001b[0;34m)\u001b[0m\u001b[0;34m,\u001b[0m \u001b[0mloss\u001b[0m\u001b[0;34m=\u001b[0m\u001b[0mtf\u001b[0m\u001b[0;34m.\u001b[0m\u001b[0mkeras\u001b[0m\u001b[0;34m.\u001b[0m\u001b[0mlosses\u001b[0m\u001b[0;34m.\u001b[0m\u001b[0mBinaryCrossentropy\u001b[0m\u001b[0;34m(\u001b[0m\u001b[0mfrom_logits\u001b[0m\u001b[0;34m=\u001b[0m\u001b[0;32mTrue\u001b[0m\u001b[0;34m)\u001b[0m\u001b[0;34m,\u001b[0m \u001b[0mmetrics\u001b[0m\u001b[0;34m=\u001b[0m\u001b[0;34m[\u001b[0m\u001b[0;34m\"accuracy\"\u001b[0m\u001b[0;34m]\u001b[0m\u001b[0;34m)\u001b[0m\u001b[0;34m\u001b[0m\u001b[0;34m\u001b[0m\u001b[0m\n",
            "\u001b[0;32m/usr/local/lib/python3.6/dist-packages/tensorflow/python/training/tracking/base.py\u001b[0m in \u001b[0;36m_method_wrapper\u001b[0;34m(self, *args, **kwargs)\u001b[0m\n\u001b[1;32m    515\u001b[0m     \u001b[0mself\u001b[0m\u001b[0;34m.\u001b[0m\u001b[0m_self_setattr_tracking\u001b[0m \u001b[0;34m=\u001b[0m \u001b[0;32mFalse\u001b[0m  \u001b[0;31m# pylint: disable=protected-access\u001b[0m\u001b[0;34m\u001b[0m\u001b[0;34m\u001b[0m\u001b[0m\n\u001b[1;32m    516\u001b[0m     \u001b[0;32mtry\u001b[0m\u001b[0;34m:\u001b[0m\u001b[0;34m\u001b[0m\u001b[0;34m\u001b[0m\u001b[0m\n\u001b[0;32m--> 517\u001b[0;31m       \u001b[0mresult\u001b[0m \u001b[0;34m=\u001b[0m \u001b[0mmethod\u001b[0m\u001b[0;34m(\u001b[0m\u001b[0mself\u001b[0m\u001b[0;34m,\u001b[0m \u001b[0;34m*\u001b[0m\u001b[0margs\u001b[0m\u001b[0;34m,\u001b[0m \u001b[0;34m**\u001b[0m\u001b[0mkwargs\u001b[0m\u001b[0;34m)\u001b[0m\u001b[0;34m\u001b[0m\u001b[0;34m\u001b[0m\u001b[0m\n\u001b[0m\u001b[1;32m    518\u001b[0m     \u001b[0;32mfinally\u001b[0m\u001b[0;34m:\u001b[0m\u001b[0;34m\u001b[0m\u001b[0;34m\u001b[0m\u001b[0m\n\u001b[1;32m    519\u001b[0m       \u001b[0mself\u001b[0m\u001b[0;34m.\u001b[0m\u001b[0m_self_setattr_tracking\u001b[0m \u001b[0;34m=\u001b[0m \u001b[0mprevious_value\u001b[0m  \u001b[0;31m# pylint: disable=protected-access\u001b[0m\u001b[0;34m\u001b[0m\u001b[0;34m\u001b[0m\u001b[0m\n",
            "\u001b[0;32m/usr/local/lib/python3.6/dist-packages/tensorflow/python/keras/engine/functional.py\u001b[0m in \u001b[0;36m__init__\u001b[0;34m(self, inputs, outputs, name, trainable, **kwargs)\u001b[0m\n\u001b[1;32m    118\u001b[0m     \u001b[0mgeneric_utils\u001b[0m\u001b[0;34m.\u001b[0m\u001b[0mvalidate_kwargs\u001b[0m\u001b[0;34m(\u001b[0m\u001b[0mkwargs\u001b[0m\u001b[0;34m,\u001b[0m \u001b[0;34m{\u001b[0m\u001b[0;34m}\u001b[0m\u001b[0;34m)\u001b[0m\u001b[0;34m\u001b[0m\u001b[0;34m\u001b[0m\u001b[0m\n\u001b[1;32m    119\u001b[0m     \u001b[0msuper\u001b[0m\u001b[0;34m(\u001b[0m\u001b[0mFunctional\u001b[0m\u001b[0;34m,\u001b[0m \u001b[0mself\u001b[0m\u001b[0;34m)\u001b[0m\u001b[0;34m.\u001b[0m\u001b[0m__init__\u001b[0m\u001b[0;34m(\u001b[0m\u001b[0mname\u001b[0m\u001b[0;34m=\u001b[0m\u001b[0mname\u001b[0m\u001b[0;34m,\u001b[0m \u001b[0mtrainable\u001b[0m\u001b[0;34m=\u001b[0m\u001b[0mtrainable\u001b[0m\u001b[0;34m)\u001b[0m\u001b[0;34m\u001b[0m\u001b[0;34m\u001b[0m\u001b[0m\n\u001b[0;32m--> 120\u001b[0;31m     \u001b[0mself\u001b[0m\u001b[0;34m.\u001b[0m\u001b[0m_init_graph_network\u001b[0m\u001b[0;34m(\u001b[0m\u001b[0minputs\u001b[0m\u001b[0;34m,\u001b[0m \u001b[0moutputs\u001b[0m\u001b[0;34m)\u001b[0m\u001b[0;34m\u001b[0m\u001b[0;34m\u001b[0m\u001b[0m\n\u001b[0m\u001b[1;32m    121\u001b[0m \u001b[0;34m\u001b[0m\u001b[0m\n\u001b[1;32m    122\u001b[0m   \u001b[0;34m@\u001b[0m\u001b[0mtrackable\u001b[0m\u001b[0;34m.\u001b[0m\u001b[0mno_automatic_dependency_tracking\u001b[0m\u001b[0;34m\u001b[0m\u001b[0;34m\u001b[0m\u001b[0m\n",
            "\u001b[0;32m/usr/local/lib/python3.6/dist-packages/tensorflow/python/training/tracking/base.py\u001b[0m in \u001b[0;36m_method_wrapper\u001b[0;34m(self, *args, **kwargs)\u001b[0m\n\u001b[1;32m    515\u001b[0m     \u001b[0mself\u001b[0m\u001b[0;34m.\u001b[0m\u001b[0m_self_setattr_tracking\u001b[0m \u001b[0;34m=\u001b[0m \u001b[0;32mFalse\u001b[0m  \u001b[0;31m# pylint: disable=protected-access\u001b[0m\u001b[0;34m\u001b[0m\u001b[0;34m\u001b[0m\u001b[0m\n\u001b[1;32m    516\u001b[0m     \u001b[0;32mtry\u001b[0m\u001b[0;34m:\u001b[0m\u001b[0;34m\u001b[0m\u001b[0;34m\u001b[0m\u001b[0m\n\u001b[0;32m--> 517\u001b[0;31m       \u001b[0mresult\u001b[0m \u001b[0;34m=\u001b[0m \u001b[0mmethod\u001b[0m\u001b[0;34m(\u001b[0m\u001b[0mself\u001b[0m\u001b[0;34m,\u001b[0m \u001b[0;34m*\u001b[0m\u001b[0margs\u001b[0m\u001b[0;34m,\u001b[0m \u001b[0;34m**\u001b[0m\u001b[0mkwargs\u001b[0m\u001b[0;34m)\u001b[0m\u001b[0;34m\u001b[0m\u001b[0;34m\u001b[0m\u001b[0m\n\u001b[0m\u001b[1;32m    518\u001b[0m     \u001b[0;32mfinally\u001b[0m\u001b[0;34m:\u001b[0m\u001b[0;34m\u001b[0m\u001b[0;34m\u001b[0m\u001b[0m\n\u001b[1;32m    519\u001b[0m       \u001b[0mself\u001b[0m\u001b[0;34m.\u001b[0m\u001b[0m_self_setattr_tracking\u001b[0m \u001b[0;34m=\u001b[0m \u001b[0mprevious_value\u001b[0m  \u001b[0;31m# pylint: disable=protected-access\u001b[0m\u001b[0;34m\u001b[0m\u001b[0;34m\u001b[0m\u001b[0m\n",
            "\u001b[0;32m/usr/local/lib/python3.6/dist-packages/tensorflow/python/keras/engine/functional.py\u001b[0m in \u001b[0;36m_init_graph_network\u001b[0;34m(self, inputs, outputs)\u001b[0m\n\u001b[1;32m    202\u001b[0m     \u001b[0;31m# Keep track of the network's nodes and layers.\u001b[0m\u001b[0;34m\u001b[0m\u001b[0;34m\u001b[0m\u001b[0;34m\u001b[0m\u001b[0m\n\u001b[1;32m    203\u001b[0m     nodes, nodes_by_depth, layers, _ = _map_graph_network(\n\u001b[0;32m--> 204\u001b[0;31m         self.inputs, self.outputs)\n\u001b[0m\u001b[1;32m    205\u001b[0m     \u001b[0mself\u001b[0m\u001b[0;34m.\u001b[0m\u001b[0m_network_nodes\u001b[0m \u001b[0;34m=\u001b[0m \u001b[0mnodes\u001b[0m\u001b[0;34m\u001b[0m\u001b[0;34m\u001b[0m\u001b[0m\n\u001b[1;32m    206\u001b[0m     \u001b[0mself\u001b[0m\u001b[0;34m.\u001b[0m\u001b[0m_nodes_by_depth\u001b[0m \u001b[0;34m=\u001b[0m \u001b[0mnodes_by_depth\u001b[0m\u001b[0;34m\u001b[0m\u001b[0;34m\u001b[0m\u001b[0m\n",
            "\u001b[0;32m/usr/local/lib/python3.6/dist-packages/tensorflow/python/keras/engine/functional.py\u001b[0m in \u001b[0;36m_map_graph_network\u001b[0;34m(inputs, outputs)\u001b[0m\n\u001b[1;32m    999\u001b[0m     \u001b[0;32mif\u001b[0m \u001b[0mall_names\u001b[0m\u001b[0;34m.\u001b[0m\u001b[0mcount\u001b[0m\u001b[0;34m(\u001b[0m\u001b[0mname\u001b[0m\u001b[0;34m)\u001b[0m \u001b[0;34m!=\u001b[0m \u001b[0;36m1\u001b[0m\u001b[0;34m:\u001b[0m\u001b[0;34m\u001b[0m\u001b[0;34m\u001b[0m\u001b[0m\n\u001b[1;32m   1000\u001b[0m       raise ValueError('The name \"' + name + '\" is used ' +\n\u001b[0;32m-> 1001\u001b[0;31m                        \u001b[0mstr\u001b[0m\u001b[0;34m(\u001b[0m\u001b[0mall_names\u001b[0m\u001b[0;34m.\u001b[0m\u001b[0mcount\u001b[0m\u001b[0;34m(\u001b[0m\u001b[0mname\u001b[0m\u001b[0;34m)\u001b[0m\u001b[0;34m)\u001b[0m \u001b[0;34m+\u001b[0m \u001b[0;34m' times in the model. '\u001b[0m\u001b[0;34m\u001b[0m\u001b[0;34m\u001b[0m\u001b[0m\n\u001b[0m\u001b[1;32m   1002\u001b[0m                        'All layer names should be unique.')\n\u001b[1;32m   1003\u001b[0m   \u001b[0;32mreturn\u001b[0m \u001b[0mnetwork_nodes\u001b[0m\u001b[0;34m,\u001b[0m \u001b[0mnodes_by_depth\u001b[0m\u001b[0;34m,\u001b[0m \u001b[0mlayers\u001b[0m\u001b[0;34m,\u001b[0m \u001b[0mlayers_by_depth\u001b[0m\u001b[0;34m\u001b[0m\u001b[0;34m\u001b[0m\u001b[0m\n",
            "\u001b[0;31mValueError\u001b[0m: The name \"concatenate\" is used 2 times in the model. All layer names should be unique."
          ]
        }
      ]
    },
    {
      "cell_type": "code",
      "metadata": {
        "id": "HcE_nE5Xn3-l"
      },
      "source": [
        "a = models[0]"
      ],
      "execution_count": null,
      "outputs": []
    },
    {
      "cell_type": "code",
      "metadata": {
        "id": "hLVl2vDZoEiH"
      },
      "source": [
        ""
      ],
      "execution_count": null,
      "outputs": []
    },
    {
      "cell_type": "code",
      "metadata": {
        "colab": {
          "base_uri": "https://localhost:8080/"
        },
        "id": "8459QzXQn6KP",
        "outputId": "1707fe63-fec5-4cd4-ab6d-360352ee8fa1"
      },
      "source": [
        "a.input.shape"
      ],
      "execution_count": null,
      "outputs": [
        {
          "output_type": "execute_result",
          "data": {
            "text/plain": [
              "TensorShape([None, 400, 400, 3])"
            ]
          },
          "metadata": {
            "tags": []
          },
          "execution_count": 13
        }
      ]
    },
    {
      "cell_type": "code",
      "metadata": {
        "id": "HXnovvaSeppV"
      },
      "source": [
        "### to avoid loading all images at once, I used Batch generator technique.\n",
        "### in each step of each epoch, it only load `batch_size_` number of images\n",
        "\n",
        "\n",
        "def create_generator_(batch_size_, X_input, y_input, training=False):\n",
        "    X_train_ = X_input\n",
        "    y_train_ = y_input\n",
        "    while 1:\n",
        "        X_train_, y_train_ = shuffle(X_train_, y_train_)\n",
        "        for j in range(batch_size_):\n",
        "            type_f = '/BONAFIDEA/' if y_train_[j]==0 else '/morphed/'\n",
        "            img_ = cv2.imread(path_dataset+type_f+X_train_[j])\n",
        "            img_ = cv2.cvtColor(img_, cv2.COLOR_BGR2RGB)\n",
        "            \n",
        "            if training:\n",
        "                if np.random.uniform()>0.8:\n",
        "                    img_ = aug_gaussian_noise(img_, mean=(1-2*np.random.rand())*0.01, sigma=(np.random.rand())*0.05)\n",
        "                img_ = aug_rotate(img_, np.random.randint(-20,20), bg_patch=(5,5))\n",
        "                img_ = aug_random_crop(img_)\n",
        "            else:\n",
        "                row_ = int(img_.shape[0]/2)\n",
        "                col_ = int(img_.shape[1]/2)\n",
        "                s1   = int(min(img_.shape[:2])/2)-2 \n",
        "                img_ = img_[row_-s1:row_+s1, :][: ,col_-s1:col_+s1]\n",
        "                img_ = cv2.resize(img_, config.CDNN_SHAPE)\n",
        "\n",
        "            img_ = img_.reshape((1,)+img_.shape)\n",
        "            lbl_ = y_train_[j]\n",
        "            if j == 0:\n",
        "                x = img_\n",
        "                y = [lbl_]\n",
        "            else:\n",
        "                x = np.concatenate((x,img_))\n",
        "                y.append(lbl_)\n",
        "        if len(X_train_) > 2*batch_size_:\n",
        "            X_train_ = X_train_[batch_size_:]\n",
        "            y_train_ = y_train_[batch_size_:]\n",
        "        else:\n",
        "            X_train_ = X_input\n",
        "            y_train_ = y_input\n",
        "        yield (x/255).astype(np.float16), to_categorical(y, num_classes=2)     #changed from 16 to 32"
      ],
      "execution_count": null,
      "outputs": []
    },
    {
      "cell_type": "code",
      "metadata": {
        "colab": {
          "base_uri": "https://localhost:8080/"
        },
        "id": "-846zQZt7XEF",
        "outputId": "6c6256a8-974d-4580-fe73-46e10c83433a"
      },
      "source": [
        "len(model.input)"
      ],
      "execution_count": null,
      "outputs": [
        {
          "output_type": "execute_result",
          "data": {
            "text/plain": [
              "3"
            ]
          },
          "metadata": {
            "tags": []
          },
          "execution_count": 40
        }
      ]
    },
    {
      "cell_type": "code",
      "metadata": {
        "colab": {
          "base_uri": "https://localhost:8080/"
        },
        "id": "P9VbLLjqWCAp",
        "outputId": "caf39d45-68c7-42ce-82ff-f6a352b1fc5e"
      },
      "source": [
        "TRAIN_GEN_SIZE = min(20,config.TRAINING_SET_SIZE) ### number of images to be loaded at each step at each epoch, for training\n",
        "VAL_GEN_SIZE = min(30,config.VALIDATION_SET_SIZE) ### number of images to be loaded at each step at each epoch, for testing\n",
        "earlystopper = EarlyStopping(patience=2, verbose=1) ### to prevent over fitting I used earlystop + validation set\n",
        "\n",
        "reduce_lr = ReduceLROnPlateau(  monitor='val_accuracy', ### to reduce learining rate when the optimization doesnt go furture\n",
        "                                factor=0.5,\n",
        "                                patience=2, \n",
        "                                min_lr=0.000001, \n",
        "                                verbose=1,  \n",
        "                                cooldown=1)\n",
        "callback_list = [reduce_lr,earlystopper]\n",
        "\n",
        "get_val_set_ = create_generator_(VAL_GEN_SIZE, \n",
        "                                 X_train[config.TRAINING_SET_SIZE:config.VALIDATION_SET_SIZE+config.TRAINING_SET_SIZE], \n",
        "                                 y_train[config.TRAINING_SET_SIZE:config.VALIDATION_SET_SIZE+config.TRAINING_SET_SIZE])\n",
        "    \n",
        "get_train_set_ = create_generator_( TRAIN_GEN_SIZE, \n",
        "                                    X_train[:config.TRAINING_SET_SIZE], \n",
        "                                    y_train[:config.TRAINING_SET_SIZE],\n",
        "                                    training=False)\n",
        "\n",
        "history = model.fit_generator(  get_train_set_, \n",
        "                                validation_data=get_val_set_,\n",
        "                                validation_steps=int(config.VALIDATION_SET_SIZE//VAL_GEN_SIZE),\n",
        "                                epochs=10, \n",
        "                                steps_per_epoch=int(config.TRAINING_SET_SIZE//TRAIN_GEN_SIZE),\n",
        "                                callbacks=callback_list)"
      ],
      "execution_count": null,
      "outputs": [
        {
          "output_type": "stream",
          "text": [
            "/usr/local/lib/python3.6/dist-packages/tensorflow/python/keras/engine/training.py:1844: UserWarning: `Model.fit_generator` is deprecated and will be removed in a future version. Please use `Model.fit`, which supports generators.\n",
            "  warnings.warn('`Model.fit_generator` is deprecated and '\n"
          ],
          "name": "stderr"
        },
        {
          "output_type": "stream",
          "text": [
            "Epoch 1/10\n",
            "55/55 [==============================] - 124s 2s/step - loss: 0.7024 - accuracy: 0.5350 - val_loss: 0.6368 - val_accuracy: 0.5556\n",
            "Epoch 2/10\n",
            "55/55 [==============================] - 109s 2s/step - loss: 0.6207 - accuracy: 0.8049 - val_loss: 0.5948 - val_accuracy: 0.9056\n",
            "Epoch 3/10\n",
            "55/55 [==============================] - 109s 2s/step - loss: 0.5698 - accuracy: 0.9500 - val_loss: 0.5515 - val_accuracy: 0.9111\n",
            "Epoch 4/10\n",
            "55/55 [==============================] - 109s 2s/step - loss: 0.5295 - accuracy: 0.9344 - val_loss: 0.5036 - val_accuracy: 0.9222\n",
            "Epoch 5/10\n",
            "55/55 [==============================] - 109s 2s/step - loss: 0.4885 - accuracy: 0.9312 - val_loss: 0.4758 - val_accuracy: 0.9000\n",
            "Epoch 6/10\n",
            "55/55 [==============================] - 108s 2s/step - loss: 0.4519 - accuracy: 0.9283 - val_loss: 0.4393 - val_accuracy: 0.9056\n",
            "\n",
            "Epoch 00006: ReduceLROnPlateau reducing learning rate to 0.0005000000237487257.\n",
            "Epoch 7/10\n",
            "55/55 [==============================] - 108s 2s/step - loss: 0.4080 - accuracy: 0.9385 - val_loss: 0.4137 - val_accuracy: 0.9167\n",
            "Epoch 8/10\n",
            "55/55 [==============================] - 108s 2s/step - loss: 0.3885 - accuracy: 0.9399 - val_loss: 0.4222 - val_accuracy: 0.8889\n",
            "\n",
            "Epoch 00008: ReduceLROnPlateau reducing learning rate to 0.0002500000118743628.\n",
            "Epoch 9/10\n",
            "55/55 [==============================] - 108s 2s/step - loss: 0.3732 - accuracy: 0.9400 - val_loss: 0.4060 - val_accuracy: 0.8944\n",
            "Epoch 10/10\n",
            "55/55 [==============================] - 108s 2s/step - loss: 0.3650 - accuracy: 0.9387 - val_loss: 0.3877 - val_accuracy: 0.9111\n",
            "\n",
            "Epoch 00010: ReduceLROnPlateau reducing learning rate to 0.0001250000059371814.\n"
          ],
          "name": "stdout"
        }
      ]
    },
    {
      "cell_type": "code",
      "metadata": {
        "id": "5epD69geL2JB"
      },
      "source": [
        "model.save(path_dataset+'/models/model_ensemble.h5')"
      ],
      "execution_count": null,
      "outputs": []
    },
    {
      "cell_type": "code",
      "metadata": {
        "colab": {
          "base_uri": "https://localhost:8080/",
          "height": 336
        },
        "id": "R3ysxCjDA27i",
        "outputId": "e290ed60-6902-4ad7-dcae-09e9831cf08c"
      },
      "source": [
        "### showing the confusion matrix for CDNN method\n",
        "\n",
        "TEST_GEN_SIZE = min(30,config.TESTING_SET_SIZE)\n",
        "\n",
        "get_test_set_ = create_generator_(TEST_GEN_SIZE, X_test[:config.TESTING_SET_SIZE], y_test[:config.TESTING_SET_SIZE])\n",
        "\n",
        "pred_cdnn_method = model.predict_generator(get_test_set_, steps=config.TESTING_SET_SIZE//TEST_GEN_SIZE)\n",
        "pred_cdnn_method_ = np.argmax(pred_cdnn_method, axis=1)\n",
        "\n",
        "conf_mat = confusion_matrix(y_test[:config.TESTING_SET_SIZE],\n",
        "                            pred_cdnn_method_)\n",
        "sns.heatmap(conf_mat, annot=True)"
      ],
      "execution_count": null,
      "outputs": [
        {
          "output_type": "stream",
          "text": [
            "/usr/local/lib/python3.6/dist-packages/tensorflow/python/keras/engine/training.py:1905: UserWarning: `Model.predict_generator` is deprecated and will be removed in a future version. Please use `Model.predict`, which supports generators.\n",
            "  warnings.warn('`Model.predict_generator` is deprecated and '\n"
          ],
          "name": "stderr"
        },
        {
          "output_type": "execute_result",
          "data": {
            "text/plain": [
              "<matplotlib.axes._subplots.AxesSubplot at 0x7f44a5ea4ba8>"
            ]
          },
          "metadata": {
            "tags": []
          },
          "execution_count": 66
        },
        {
          "output_type": "display_data",
          "data": {
            "image/png": "[encoded data removed]",
            "text/plain": [
              "<Figure size 432x288 with 2 Axes>"
            ]
          },
          "metadata": {
            "tags": [],
            "needs_background": "light"
          }
        }
      ]
    },
    {
      "cell_type": "code",
      "metadata": {
        "id": "TIwicaWVwQvu"
      },
      "source": [
        ""
      ],
      "execution_count": null,
      "outputs": []
    }
  ]
}